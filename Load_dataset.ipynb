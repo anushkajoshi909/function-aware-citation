{
 "cells": [
  {
   "cell_type": "code",
   "execution_count": 1,
   "metadata": {},
   "outputs": [
    {
     "name": "stdout",
     "output_type": "stream",
     "text": [
      "🔍 Sampling 5 examples with citation functions...\n",
      "\n",
      "--- Example 1 ---\n"
     ]
    },
    {
     "ename": "KeyError",
     "evalue": "'text'",
     "output_type": "error",
     "traceback": [
      "\u001b[0;31m---------------------------------------------------------------------------\u001b[0m",
      "\u001b[0;31mKeyError\u001b[0m                                  Traceback (most recent call last)",
      "\u001b[1;32m/home/anpa439f/Research_Project/Load_dataset.ipynb Cell 1\u001b[0m line \u001b[0;36m1\n\u001b[1;32m      <a href='vscode-notebook-cell://ssh-remote%2Blogin2.alpha.hpc.tu-dresden.de/home/anpa439f/Research_Project/Load_dataset.ipynb#W0sdnNjb2RlLXJlbW90ZQ%3D%3D?line=8'>9</a>\u001b[0m \u001b[39mfor\u001b[39;00m example \u001b[39min\u001b[39;00m streamed:\n\u001b[1;32m     <a href='vscode-notebook-cell://ssh-remote%2Blogin2.alpha.hpc.tu-dresden.de/home/anpa439f/Research_Project/Load_dataset.ipynb#W0sdnNjb2RlLXJlbW90ZQ%3D%3D?line=9'>10</a>\u001b[0m     \u001b[39mprint\u001b[39m(\u001b[39mf\u001b[39m\u001b[39m\"\u001b[39m\u001b[39m--- Example \u001b[39m\u001b[39m{\u001b[39;00mcount\u001b[39m \u001b[39m\u001b[39m+\u001b[39m\u001b[39m \u001b[39m\u001b[39m1\u001b[39m\u001b[39m}\u001b[39;00m\u001b[39m ---\u001b[39m\u001b[39m\"\u001b[39m)\n\u001b[0;32m---> <a href='vscode-notebook-cell://ssh-remote%2Blogin2.alpha.hpc.tu-dresden.de/home/anpa439f/Research_Project/Load_dataset.ipynb#W0sdnNjb2RlLXJlbW90ZQ%3D%3D?line=10'>11</a>\u001b[0m     \u001b[39mprint\u001b[39m(\u001b[39m\"\u001b[39m\u001b[39m📄 Text Snippet:\u001b[39m\u001b[39m\"\u001b[39m, example[\u001b[39m\"\u001b[39;49m\u001b[39mtext\u001b[39;49m\u001b[39m\"\u001b[39;49m][:\u001b[39m300\u001b[39m]\u001b[39m.\u001b[39mreplace(\u001b[39m\"\u001b[39m\u001b[39m\\n\u001b[39;00m\u001b[39m\"\u001b[39m, \u001b[39m\"\u001b[39m\u001b[39m \u001b[39m\u001b[39m\"\u001b[39m), \u001b[39m\"\u001b[39m\u001b[39m...\u001b[39m\u001b[39m\"\u001b[39m)\n\u001b[1;32m     <a href='vscode-notebook-cell://ssh-remote%2Blogin2.alpha.hpc.tu-dresden.de/home/anpa439f/Research_Project/Load_dataset.ipynb#W0sdnNjb2RlLXJlbW90ZQ%3D%3D?line=11'>12</a>\u001b[0m     \u001b[39mprint\u001b[39m(\u001b[39m\"\u001b[39m\u001b[39m🔗 Citation Spans:\u001b[39m\u001b[39m\"\u001b[39m, example\u001b[39m.\u001b[39mget(\u001b[39m\"\u001b[39m\u001b[39mcite_spans\u001b[39m\u001b[39m\"\u001b[39m, []))\n\u001b[1;32m     <a href='vscode-notebook-cell://ssh-remote%2Blogin2.alpha.hpc.tu-dresden.de/home/anpa439f/Research_Project/Load_dataset.ipynb#W0sdnNjb2RlLXJlbW90ZQ%3D%3D?line=12'>13</a>\u001b[0m     \u001b[39mprint\u001b[39m(\u001b[39m\"\u001b[39m\u001b[39m📘 Citation Function:\u001b[39m\u001b[39m\"\u001b[39m, example\u001b[39m.\u001b[39mget(\u001b[39m\"\u001b[39m\u001b[39mcitation_function\u001b[39m\u001b[39m\"\u001b[39m, \u001b[39m\"\u001b[39m\u001b[39m❌ Not present\u001b[39m\u001b[39m\"\u001b[39m))\n",
      "\u001b[0;31mKeyError\u001b[0m: 'text'"
     ]
    }
   ],
   "source": [
    "from datasets import load_dataset\n",
    "\n",
    "streamed = load_dataset(\"ines-besrour/unarxive_2024\", split=\"train\", streaming=True)\n",
    "\n",
    "print(\"🔍 Sampling 5 paragraph-level examples...\\n\")\n",
    "\n",
    "count = 0\n",
    "for example in streamed:\n",
    "    # Each example is a dict with 'text', 'cite_spans', 'citation_function', etc.\n",
    "    paragraph = example.get(\"paragraph\", {})\n",
    "    if not paragraph:\n",
    "        continue\n",
    "\n",
    "    text = paragraph.get(\"text\", \"\")\n",
    "    cite_spans = paragraph.get(\"cite_spans\", [])\n",
    "    citation_function = paragraph.get(\"citation_function\", None)\n",
    "\n",
    "    print(f\"--- Example {count + 1} ---\")\n",
    "    print(\"📄 Text Snippet:\", text[:300].replace(\"\\n\", \" \"), \"...\")\n",
    "    print(\"🔗 Citation Spans:\", cite_spans)\n",
    "    print(\"📘 Citation Function:\", citation_function or \"❌ Not present\")\n",
    "    print()\n",
    "\n",
    "    count += 1\n",
    "    if count >= 5:\n",
    "        break\n"
   ]
  },
  {
   "cell_type": "code",
   "execution_count": null,
   "metadata": {},
   "outputs": [
    {
     "data": {
      "application/vnd.jupyter.widget-view+json": {
       "model_id": "81c556600a8142c0a448c3673332c754",
       "version_major": 2,
       "version_minor": 0
      },
      "text/plain": [
       "Downloading readme: 0.00B [00:00, ?B/s]"
      ]
     },
     "metadata": {},
     "output_type": "display_data"
    },
    {
     "data": {
      "application/vnd.jupyter.widget-view+json": {
       "model_id": "efcd7b9bb4db4c9aa0bb9bbc73286bb1",
       "version_major": 2,
       "version_minor": 0
      },
      "text/plain": [
       "Downloading metadata:   0%|          | 0.00/62.0 [00:00<?, ?B/s]"
      ]
     },
     "metadata": {},
     "output_type": "display_data"
    },
    {
     "data": {
      "application/vnd.jupyter.widget-view+json": {
       "model_id": "820902eba7c84a369d991df0318964e7",
       "version_major": 2,
       "version_minor": 0
      },
      "text/plain": [
       "Downloading data:   0%|          | 0.00/39.8G [00:00<?, ?B/s]"
      ]
     },
     "metadata": {},
     "output_type": "display_data"
    },
    {
     "data": {
      "application/vnd.jupyter.widget-view+json": {
       "model_id": "d54ee5be55614accb97751921176fc2b",
       "version_major": 2,
       "version_minor": 0
      },
      "text/plain": [
       "Downloading data:   0%|          | 0.00/39.8G [00:00<?, ?B/s]"
      ]
     },
     "metadata": {},
     "output_type": "display_data"
    },
    {
     "data": {
      "application/vnd.jupyter.widget-view+json": {
       "model_id": "652fdef2a94346f8a2918a9e36bee729",
       "version_major": 2,
       "version_minor": 0
      },
      "text/plain": [
       "Downloading data:   0%|          | 0.00/25.2G [00:00<?, ?B/s]"
      ]
     },
     "metadata": {},
     "output_type": "display_data"
    },
    {
     "data": {
      "application/vnd.jupyter.widget-view+json": {
       "model_id": "81983b1558f54864a104a2787205aa70",
       "version_major": 2,
       "version_minor": 0
      },
      "text/plain": [
       "Generating train split: 0 examples [00:00, ? examples/s]"
      ]
     },
     "metadata": {},
     "output_type": "display_data"
    }
   ],
   "source": []
  }
 ],
 "metadata": {
  "kernelspec": {
   "display_name": "Python 3",
   "language": "python",
   "name": "python3"
  },
  "language_info": {
   "codemirror_mode": {
    "name": "ipython",
    "version": 3
   },
   "file_extension": ".py",
   "mimetype": "text/x-python",
   "name": "python",
   "nbconvert_exporter": "python",
   "pygments_lexer": "ipython3",
   "version": "3.10.16"
  }
 },
 "nbformat": 4,
 "nbformat_minor": 2
}
