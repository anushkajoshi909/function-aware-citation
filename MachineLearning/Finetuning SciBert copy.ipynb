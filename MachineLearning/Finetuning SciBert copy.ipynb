{
 "cells": [
  {
   "cell_type": "code",
   "execution_count": 1,
   "metadata": {
    "executionInfo": {
     "elapsed": 1325,
     "status": "ok",
     "timestamp": 1648996987478,
     "user": {
      "displayName": "กฤติน ชาตรีนันท์",
      "userId": "09907642380438869594"
     },
     "user_tz": -420
    },
    "id": "MuW-jgbVR0kZ"
   },
   "outputs": [
    {
     "name": "stdout",
     "output_type": "stream",
     "text": [
      "The history saving thread hit an unexpected error (OperationalError('disk I/O error')).History will not be written to the database.\n"
     ]
    }
   ],
   "source": [
    "from tqdm import tqdm\n",
    "import os\n",
    "import re\n",
    "from tqdm import tqdm\n",
    "import numpy as np\n",
    "import pandas as pd\n",
    "import torch.nn as nn\n",
    "import matplotlib.pyplot as plt\n",
    "import torch\n",
    "%matplotlib inline"
   ]
  },
  {
   "cell_type": "code",
   "execution_count": 2,
   "metadata": {},
   "outputs": [
    {
     "name": "stdout",
     "output_type": "stream",
     "text": [
      "There are 8 GPU(s) available.\n",
      "Device name: NVIDIA A100-SXM4-40GB\n"
     ]
    }
   ],
   "source": [
    "if torch.cuda.is_available():\n",
    "    device = torch.device(\"cuda\")\n",
    "    print(f'There are {torch.cuda.device_count()} GPU(s) available.')\n",
    "    print('Device name:', torch.cuda.get_device_name(0))\n",
    "else:\n",
    "    print('No GPU available, using the CPU instead.')\n",
    "    device = torch.device(\"cpu\")"
   ]
  },
  {
   "cell_type": "code",
   "execution_count": null,
   "metadata": {},
   "outputs": [],
   "source": [
    "!nvidia-smi"
   ]
  },
  {
   "cell_type": "code",
   "execution_count": 3,
   "metadata": {},
   "outputs": [
    {
     "name": "stdout",
     "output_type": "stream",
     "text": [
      "Using CPU for now since all GPUs are full.\n"
     ]
    }
   ],
   "source": [
    "device = torch.device(\"cpu\")\n",
    "print(\"Using CPU for now since all GPUs are full.\")\n"
   ]
  },
  {
   "cell_type": "code",
   "execution_count": 4,
   "metadata": {
    "colab": {
     "base_uri": "https://localhost:8080/",
     "height": 423
    },
    "executionInfo": {
     "elapsed": 368,
     "status": "ok",
     "timestamp": 1648997015323,
     "user": {
      "displayName": "กฤติน ชาตรีนันท์",
      "userId": "09907642380438869594"
     },
     "user_tz": -420
    },
    "id": "DGeZBqt2R3oh",
    "outputId": "5fbf65d2-4d81-45de-a0a0-0b83990dbeb1"
   },
   "outputs": [],
   "source": [
    "from pathlib import Path\n",
    "import pandas as pd\n",
    "\n",
    "# ✅ Set your base path\n",
    "base_path = Path(\"//data/horse/ws/anpa439f-Function_Retrieval_Citation/Research_Project/classification_data/acl-arc\")\n",
    "\n",
    "# ✅ Define label mapping\n",
    "label_map = {\n",
    "    0: \"background\",\n",
    "    1: \"uses\",\n",
    "    2: \"compares\",\n",
    "    3: \"motivation\",\n",
    "    4: \"continuation\",\n",
    "    5: \"future\"\n",
    "}\n",
    "\n",
    "# ✅ Generic loader function\n",
    "def load_acl_arc_dataset(csv_path):\n",
    "    df = pd.read_csv(csv_path, on_bad_lines='skip', engine='python')\n",
    "\n",
    "    # Map labels from int to string\n",
    "    df[\"label\"] = df[\"intent\"].map(label_map)\n",
    "    df = df.dropna(subset=[\"label\"])\n",
    "\n",
    "    X = df[\"cleaned_cite_text\"].astype(str).tolist()\n",
    "    y = df[\"label\"].tolist()\n",
    "    return X, y"
   ]
  },
  {
   "cell_type": "code",
   "execution_count": 5,
   "metadata": {},
   "outputs": [
    {
     "name": "stdout",
     "output_type": "stream",
     "text": [
      "Train: 506, Val: 34, Test: 41\n",
      "Sample label distribution (train): background      260\n",
      "uses             95\n",
      "compares         91\n",
      "continuation     23\n",
      "motivation       19\n",
      "future           18\n",
      "Name: count, dtype: int64\n"
     ]
    }
   ],
   "source": [
    "\n",
    "X_train, y_train = load_acl_arc_dataset(base_path / \"train_30_percent.csv\")\n",
    "X_val, y_val     = load_acl_arc_dataset(base_path / \"val_30_percent.csv\")\n",
    "X_test, y_test   = load_acl_arc_dataset(base_path / \"test_30_percent.csv\")\n",
    "\n",
    "# ✅ Sanity check\n",
    "print(f\"Train: {len(X_train)}, Val: {len(X_val)}, Test: {len(X_test)}\")\n",
    "print(\"Sample label distribution (train):\", pd.Series(y_train).value_counts())\n"
   ]
  },
  {
   "cell_type": "code",
   "execution_count": 6,
   "metadata": {},
   "outputs": [
    {
     "name": "stdout",
     "output_type": "stream",
     "text": [
      "Train: 811, Val: 174, Test: 174\n",
      "Train label distribution:\n",
      " intent\n",
      "0    417\n",
      "1    152\n",
      "2    146\n",
      "4     38\n",
      "3     29\n",
      "5     29\n",
      "Name: count, dtype: int64\n"
     ]
    }
   ],
   "source": [
    "\"\"\"#Load 30 % data\n",
    "\n",
    "import pandas as pd\n",
    "from sklearn.model_selection import train_test_split\n",
    "\n",
    "# Load and combine the existing 30% datasets\n",
    "df_train = pd.read_csv(base_path / \"train_30_percent.csv\")\n",
    "df_val   = pd.read_csv(base_path / \"val_30_percent.csv\")\n",
    "df_test  = pd.read_csv(base_path / \"test_30_percent.csv\")\n",
    "\n",
    "# Combine all into one for stratified resplit\n",
    "df = pd.concat([df_train, df_val, df_test], ignore_index=True)\n",
    "\n",
    "# Stratified split (70% train, 15% val, 15% test)\n",
    "X = df['text']\n",
    "y = df['intent']\n",
    "\n",
    "X_train, X_temp, y_train, y_temp = train_test_split(X, y, stratify=y, test_size=0.3, random_state=42)\n",
    "X_val, X_test, y_val, y_test     = train_test_split(X_temp, y_temp, stratify=y_temp, test_size=0.5, random_state=42)\n",
    "\n",
    "# ✅ Optional: print for sanity\n",
    "print(f\"Train: {len(X_train)}, Val: {len(X_val)}, Test: {len(X_test)}\")\n",
    "print(\"Sample label distribution (train):\")\n",
    "print(pd.Series(y_train).value_counts())\"\"\"\n",
    "\n",
    "#Load all data\n",
    "\n",
    "import pandas as pd\n",
    "from sklearn.model_selection import train_test_split\n",
    "\n",
    "# ----------- PATHS -----------\n",
    "data_dir = \"/data/horse/ws/anpa439f-Function_Retrieval_Citation/Research_Project/classification_data/acl-arc\"\n",
    "train_files = [\"train_10_percent.csv\", \"train_20_percent.csv\", \"train_30_percent.csv\"]\n",
    "val_files = [\"val_10_percent.csv\", \"val_20_percent.csv\", \"val_30_percent.csv\"]\n",
    "test_files = [\"test_10_percent.csv\", \"test_20_percent.csv\", \"test_30_percent.csv\"]\n",
    "\n",
    "# ----------- LOAD & COMBINE ALL CSVs -----------\n",
    "df_all = pd.concat(\n",
    "    [pd.read_csv(f\"{data_dir}/{f}\") for f in train_files + val_files + test_files],\n",
    "    ignore_index=True\n",
    ")\n",
    "\n",
    "# ----------- CLEAN TEXT & LABELS -----------\n",
    "X = df_all[\"cleaned_cite_text\"].astype(str)\n",
    "y = df_all[\"intent\"].astype(int)\n",
    "\n",
    "# ----------- STRATIFIED SPLIT: 70% train, 15% val, 15% test -----------\n",
    "X_train, X_temp, y_train, y_temp = train_test_split(X, y, stratify=y, test_size=0.3, random_state=42)\n",
    "X_val, X_test, y_val, y_test     = train_test_split(X_temp, y_temp, stratify=y_temp, test_size=0.5, random_state=42)\n",
    "\n",
    "# ----------- OPTIONAL: SANITY CHECK -----------\n",
    "print(f\"Train: {len(X_train)}, Val: {len(X_val)}, Test: {len(X_test)}\")\n",
    "print(\"Train label distribution:\\n\", pd.Series(y_train).value_counts())\n"
   ]
  },
  {
   "cell_type": "code",
   "execution_count": 7,
   "metadata": {
    "colab": {
     "base_uri": "https://localhost:8080/",
     "height": 81,
     "referenced_widgets": [
      "4154a003c626419b9c47a540e53fa428",
      "a8cc0af7284048548b56503d8f16139a",
      "f46c913c776841a8a3be19681986ce1a",
      "bd4178909db141819c80c6ee46ade5a8",
      "845d4da555684b0f96a6dd20d6ef57fa",
      "70cba6820a9e4e22ad87e251f5857801",
      "60b38f7133864f049bff92787313367f",
      "471aaa34c8b341189bbc206315edefbe",
      "1c61ec5d5a7b4259b450dfec9cb5a3ff",
      "4c5dd318ba8e4d5d8ebf2f1bef650efa",
      "96f1bc563b044f3b85933aee03d61598",
      "eb6b8611e956446391b278e4cacb22f8",
      "4a704fde880e4e119dd60c8f7c13b737",
      "633006ea85464d818db0614bdf863dcd",
      "f8940321d3d740b6a74a3c7e1ce2a55b",
      "59856599c9b64d6293963962306c48bb",
      "9b447b71e1eb4a65b30858bdd7cd4c6e",
      "b22ab15795ca4d5d9c6abab7bd163cd6",
      "c300b2baaaba46299461339ac05915e4",
      "ad4280a9f38343a59cb2947155cebca8",
      "d966efc185484fff80234a605bd86518",
      "dc23c978b66b4c8dbf49451a279b0d33"
     ]
    },
    "executionInfo": {
     "elapsed": 1809,
     "status": "ok",
     "timestamp": 1648997053305,
     "user": {
      "displayName": "กฤติน ชาตรีนันท์",
      "userId": "09907642380438869594"
     },
     "user_tz": -420
    },
    "id": "0D5X1EWaSJyx",
    "outputId": "7092aede-ceaf-428c-8551-ffbe2ce38fc3"
   },
   "outputs": [
    {
     "name": "stderr",
     "output_type": "stream",
     "text": [
      "/home/anpa439f/anaconda3/envs/myenv/lib/python3.10/site-packages/huggingface_hub/file_download.py:1150: FutureWarning: `resume_download` is deprecated and will be removed in version 1.0.0. Downloads always resume when possible. If you want to force a new download, use `force_download=True`.\n",
      "  warnings.warn(\n"
     ]
    }
   ],
   "source": [
    "from transformers import BertTokenizer\n",
    "import torch\n",
    "\n",
    "# Load tokenizer and add special token\n",
    "tokenizer = BertTokenizer.from_pretrained(\"allenai/scibert_scivocab_uncased\", do_lower_case=True)\n",
    "tokenizer.add_tokens(['<cite>'])\n",
    "\n",
    "MAX_LEN = 256\n",
    "\n",
    "def tokenize_fast(text_list):\n",
    "    encoded = tokenizer.batch_encode_plus(\n",
    "        text_list,\n",
    "        add_special_tokens=True,\n",
    "        max_length=MAX_LEN,\n",
    "        padding='max_length',\n",
    "        truncation=True,\n",
    "        return_attention_mask=True,\n",
    "        return_token_type_ids=True,\n",
    "        return_tensors='pt'  # PyTorch tensors directly\n",
    "    )\n",
    "    return encoded['input_ids'], encoded['attention_mask'], encoded['token_type_ids']\n"
   ]
  },
  {
   "cell_type": "code",
   "execution_count": 8,
   "metadata": {},
   "outputs": [
    {
     "name": "stdout",
     "output_type": "stream",
     "text": [
      "Tokenizing datasets...\n"
     ]
    }
   ],
   "source": [
    "print(\"Tokenizing datasets...\")\n",
    "\n",
    "train_inputs, train_masks, train_token_type = tokenize_fast(X_train)\n",
    "val_inputs, val_masks, val_token_type = tokenize_fast(X_val)\n",
    "test_inputs, test_masks, test_token_type = tokenize_fast(X_test)"
   ]
  },
  {
   "cell_type": "code",
   "execution_count": 9,
   "metadata": {},
   "outputs": [],
   "source": [
    "y_train_encoded = torch.tensor(list(y_train))\n",
    "y_val_encoded   = torch.tensor(list(y_val))\n",
    "y_test_encoded  = torch.tensor(list(y_test))\n"
   ]
  },
  {
   "cell_type": "code",
   "execution_count": 10,
   "metadata": {},
   "outputs": [
    {
     "name": "stdout",
     "output_type": "stream",
     "text": [
      "<class 'pandas.core.series.Series'>\n",
      "Train labels: {0, 1, 2, 3, 4, 5}\n",
      "Val labels: {0, 1, 2, 3, 4, 5}\n",
      "Test labels: {0, 1, 2, 3, 4, 5}\n"
     ]
    }
   ],
   "source": [
    "print(type(X_train))\n",
    "\n",
    "print(\"Train labels:\", set(y_train))\n",
    "print(\"Val labels:\", set(y_val))\n",
    "print(\"Test labels:\", set(y_test))"
   ]
  },
  {
   "cell_type": "code",
   "execution_count": 11,
   "metadata": {
    "colab": {
     "base_uri": "https://localhost:8080/"
    },
    "executionInfo": {
     "elapsed": 306,
     "status": "ok",
     "timestamp": 1648997116755,
     "user": {
      "displayName": "กฤติน ชาตรีนันท์",
      "userId": "09907642380438869594"
     },
     "user_tz": -420
    },
    "id": "eg-qFHd_R4BQ",
    "outputId": "c0079277-938b-4476-ca62-408ec89ef997"
   },
   "outputs": [
    {
     "name": "stdout",
     "output_type": "stream",
     "text": [
      "Class weights: [0.00239808 0.00657895 0.00684932 0.03448276 0.02631579 0.03448276]\n"
     ]
    }
   ],
   "source": [
    "from collections import Counter\n",
    "import numpy as np\n",
    "import torch\n",
    "\n",
    "# Get class counts from encoded labels\n",
    "label_counts = Counter(y_train_encoded.tolist())\n",
    "num_classes = len(label_counts)\n",
    "\n",
    "# Inverse frequency weighting\n",
    "class_freq = np.array([label_counts[i] for i in range(num_classes)])\n",
    "class_weights = 1. / class_freq\n",
    "print(\"Class weights:\", class_weights)\n"
   ]
  },
  {
   "cell_type": "code",
   "execution_count": 12,
   "metadata": {
    "colab": {
     "base_uri": "https://localhost:8080/"
    },
    "executionInfo": {
     "elapsed": 404,
     "status": "ok",
     "timestamp": 1648997120156,
     "user": {
      "displayName": "กฤติน ชาตรีนันท์",
      "userId": "09907642380438869594"
     },
     "user_tz": -420
    },
    "id": "BglGw1T7R4D5",
    "outputId": "09688531-abc8-4b63-b39d-4d0ab882caf5",
    "scrolled": true
   },
   "outputs": [
    {
     "name": "stdout",
     "output_type": "stream",
     "text": [
      "Sample weight vector shape: torch.Size([811])\n"
     ]
    }
   ],
   "source": [
    "# Map each training example to its corresponding class weight\n",
    "samples_weight = np.array([class_weights[label.item()] for label in y_train_encoded])\n",
    "samples_weight = torch.tensor(samples_weight, dtype=torch.float)\n",
    "\n",
    "print(\"Sample weight vector shape:\", samples_weight.shape)\n"
   ]
  },
  {
   "cell_type": "code",
   "execution_count": 13,
   "metadata": {},
   "outputs": [],
   "source": [
    "from torch.utils.data import TensorDataset\n",
    "\n",
    "# Wrap each dataset with its input + attention + token type + label\n",
    "train_dataset = TensorDataset(train_inputs, train_masks, train_token_type, y_train_encoded)\n",
    "val_dataset   = TensorDataset(val_inputs, val_masks, val_token_type, y_val_encoded)\n",
    "test_dataset  = TensorDataset(test_inputs, test_masks, test_token_type, y_test_encoded)\n"
   ]
  },
  {
   "cell_type": "code",
   "execution_count": 14,
   "metadata": {},
   "outputs": [],
   "source": [
    "from torch.utils.data import DataLoader, WeightedRandomSampler, SequentialSampler\n",
    "\n",
    "batch_size = 32\n",
    "\n",
    "# Balanced sampler for training\n",
    "train_sampler = WeightedRandomSampler(weights=samples_weight, num_samples=len(samples_weight), replacement=True)\n",
    "\n",
    "# Sequential sampler for val/test (no randomness)\n",
    "val_sampler = SequentialSampler(val_dataset)\n",
    "test_sampler = SequentialSampler(test_dataset)\n",
    "\n",
    "# DataLoaders\n",
    "train_dataloader = DataLoader(train_dataset, sampler=train_sampler, batch_size=batch_size)\n",
    "val_dataloader   = DataLoader(val_dataset, sampler=val_sampler, batch_size=batch_size)\n",
    "test_dataloader  = DataLoader(test_dataset, sampler=test_sampler, batch_size=batch_size)\n"
   ]
  },
  {
   "cell_type": "code",
   "execution_count": 15,
   "metadata": {},
   "outputs": [
    {
     "name": "stdout",
     "output_type": "stream",
     "text": [
      "Train batches: 26\n",
      "Example batch input shape: torch.Size([32, 256])\n",
      "Example labels: tensor([4, 2, 3, 5, 1, 4, 5, 4, 0, 1, 5, 4, 5, 4, 2, 4, 0, 0, 0, 5, 3, 0, 0, 4,\n",
      "        3, 2, 0, 0, 5, 3, 3, 2])\n"
     ]
    }
   ],
   "source": [
    "print(\"Train batches:\", len(train_dataloader))\n",
    "example = next(iter(train_dataloader))\n",
    "print(\"Example batch input shape:\", example[0].shape)\n",
    "print(\"Example labels:\", example[-1])\n"
   ]
  },
  {
   "cell_type": "code",
   "execution_count": 16,
   "metadata": {},
   "outputs": [
    {
     "name": "stderr",
     "output_type": "stream",
     "text": [
      "Some weights of BertForSequenceClassification were not initialized from the model checkpoint at allenai/scibert_scivocab_uncased and are newly initialized: ['classifier.weight', 'classifier.bias']\n",
      "You should probably TRAIN this model on a down-stream task to be able to use it for predictions and inference.\n",
      "You are resizing the embedding layer without providing a `pad_to_multiple_of` parameter. This means that the new embedding dimension will be 31091. This might induce some performance reduction as *Tensor Cores* will not be available. For more details about this, or help on choosing the correct value for resizing, refer to this guide: https://docs.nvidia.com/deeplearning/performance/dl-performance-matrix-multiplication/index.html#requirements-tc\n",
      "/home/anpa439f/anaconda3/envs/myenv/lib/python3.10/site-packages/transformers/optimization.py:411: FutureWarning: This implementation of AdamW is deprecated and will be removed in a future version. Use the PyTorch implementation torch.optim.AdamW instead, or set `no_deprecation_warning=True` to disable this warning\n",
      "  warnings.warn(\n"
     ]
    }
   ],
   "source": [
    "import torch\n",
    "from transformers import BertForSequenceClassification, AdamW, get_linear_schedule_with_warmup\n",
    "\n",
    "#device = torch.device(\"cuda\" if torch.cuda.is_available() else \"cpu\")\n",
    "device = torch.device(\"cpu\")\n",
    "\n",
    "def initialize_model(epochs=13):\n",
    "    model = BertForSequenceClassification.from_pretrained(\n",
    "        \"allenai/scibert_scivocab_uncased\",\n",
    "        num_labels=6,  # ⚠️ You have 6 labels\n",
    "        output_attentions=False,\n",
    "        output_hidden_states=False\n",
    "    )\n",
    "    model.resize_token_embeddings(len(tokenizer))\n",
    "    model.to(device)\n",
    "\n",
    "    optimizer = AdamW(model.parameters(), lr=1e-5, eps=1e-8)\n",
    "    total_steps = len(train_dataloader) * epochs\n",
    "\n",
    "    scheduler = get_linear_schedule_with_warmup(\n",
    "        optimizer,\n",
    "        num_warmup_steps=0,\n",
    "        num_training_steps=total_steps\n",
    "    )\n",
    "    \n",
    "    return model, optimizer, scheduler\n",
    "\n",
    "model, optimizer, scheduler = initialize_model()\n"
   ]
  },
  {
   "cell_type": "code",
   "execution_count": null,
   "metadata": {},
   "outputs": [],
   "source": [
    "from tqdm import tqdm"
   ]
  },
  {
   "cell_type": "code",
   "execution_count": 17,
   "metadata": {},
   "outputs": [],
   "source": [
    "\n",
    "# Helper to calculate accuracy\n",
    "def flat_accuracy(preds, labels):\n",
    "    pred_flat = np.argmax(preds, axis=1)\n",
    "    labels_flat = labels.flatten()\n",
    "    return np.sum(pred_flat == labels_flat) / len(labels_flat)\n",
    "\n",
    "loss_fn = nn.CrossEntropyLoss()\n",
    "\n",
    "def train(model, train_dataloader, val_dataloader, optimizer, scheduler, epochs=13, patience=2):\n",
    "\n",
    "    best_val_loss = float('inf')\n",
    "    counter = 0\n",
    "    history = []\n",
    "    \n",
    "    for epoch in range(epochs):\n",
    "        print(f\"\\n======== Epoch {epoch+1} / {epochs} ========\")\n",
    "\n",
    "        # ---------- Training ----------\n",
    "        model.train()\n",
    "        total_loss = 0\n",
    "        train_steps = 0\n",
    "\n",
    "        for batch in tqdm(train_dataloader, desc=\"Training\"):\n",
    "            b_input_ids, b_input_mask, b_token_type_ids, b_labels = [t.to(device) for t in batch]\n",
    "\n",
    "            model.zero_grad()\n",
    "\n",
    "            outputs = model(\n",
    "                input_ids=b_input_ids,\n",
    "                attention_mask=b_input_mask,\n",
    "                token_type_ids=b_token_type_ids,\n",
    "                labels=b_labels\n",
    "            )\n",
    "            \n",
    "            loss = outputs.loss\n",
    "            logits = outputs.logits\n",
    "            total_loss += loss.item()\n",
    "\n",
    "            loss.backward()\n",
    "            torch.nn.utils.clip_grad_norm_(model.parameters(), 1.0)\n",
    "            optimizer.step()\n",
    "            scheduler.step()\n",
    "\n",
    "            train_steps += 1\n",
    "\n",
    "        avg_train_loss = total_loss / train_steps\n",
    "        print(f\"\\n✅ Average training loss: {avg_train_loss:.4f}\")\n",
    "\n",
    "        # ---------- Validation ----------\n",
    "        model.eval()\n",
    "        val_loss = 0\n",
    "        val_accuracy = 0\n",
    "        nb_eval_steps = 0\n",
    "\n",
    "        for batch in tqdm(val_dataloader, desc=\"Validation\"):\n",
    "            b_input_ids, b_input_mask, b_token_type_ids, b_labels = [t.to(device) for t in batch]\n",
    "\n",
    "            with torch.no_grad():\n",
    "                outputs = model(\n",
    "                    input_ids=b_input_ids,\n",
    "                    attention_mask=b_input_mask,\n",
    "                    token_type_ids=b_token_type_ids,\n",
    "                    labels=b_labels\n",
    "                )\n",
    "\n",
    "            loss = outputs.loss\n",
    "            logits = outputs.logits\n",
    "            val_loss += loss.item()\n",
    "\n",
    "            logits = logits.detach().cpu().numpy()\n",
    "            label_ids = b_labels.to('cpu').numpy()\n",
    "            val_accuracy += flat_accuracy(logits, label_ids)\n",
    "            nb_eval_steps += 1\n",
    "\n",
    "        avg_val_loss = val_loss / nb_eval_steps\n",
    "        avg_val_accuracy = val_accuracy / nb_eval_steps\n",
    "\n",
    "        print(f\"✅ Validation loss: {avg_val_loss:.4f}\")\n",
    "        print(f\"✅ Validation accuracy: {avg_val_accuracy:.4f}\")\n",
    "        # Log history\n",
    "        history.append({\n",
    "            \"epoch\": epoch+1,\n",
    "            \"train_loss\": avg_train_loss,\n",
    "            \"val_loss\": avg_val_loss,\n",
    "            \"val_accuracy\": avg_val_accuracy\n",
    "        })\n",
    "\n",
    "        # ---------- Early stopping and saving best model ----------\n",
    "        if avg_val_loss < best_val_loss:\n",
    "            best_val_loss = avg_val_loss\n",
    "            counter = 0\n",
    "            output_dir = \"scibert_6label_model_final_ep13\"\n",
    "            if not os.path.exists(output_dir):\n",
    "                os.makedirs(output_dir)\n",
    "            model.save_pretrained(output_dir)\n",
    "            tokenizer.save_pretrained(output_dir)\n",
    "            print(\"💾 Saved new best model.\")\n",
    "        else:\n",
    "            counter += 1\n",
    "            if counter >= patience:\n",
    "                print(\"⏹️ Early stopping triggered.\")\n",
    "                break\n",
    "\n",
    "    # Save training log\n",
    "    pd.DataFrame(history).to_csv(\"training_log.csv\", index=False)\n",
    "    print(\"📝 Training log saved to training_log.csv\")\n"
   ]
  },
  {
   "cell_type": "code",
   "execution_count": 18,
   "metadata": {},
   "outputs": [
    {
     "name": "stdout",
     "output_type": "stream",
     "text": [
      "\n",
      "======== Epoch 1 / 13 ========\n"
     ]
    },
    {
     "name": "stderr",
     "output_type": "stream",
     "text": [
      "Training: 100%|██████████| 26/26 [15:09<00:00, 35.00s/it]\n"
     ]
    },
    {
     "name": "stdout",
     "output_type": "stream",
     "text": [
      "\n",
      "✅ Average training loss: 1.6298\n"
     ]
    },
    {
     "name": "stderr",
     "output_type": "stream",
     "text": [
      "Validation: 100%|██████████| 6/6 [00:50<00:00,  8.43s/it]\n"
     ]
    },
    {
     "name": "stdout",
     "output_type": "stream",
     "text": [
      "✅ Validation loss: 1.4656\n",
      "✅ Validation accuracy: 0.5982\n",
      "💾 Saved new best model.\n",
      "\n",
      "======== Epoch 2 / 13 ========\n"
     ]
    },
    {
     "name": "stderr",
     "output_type": "stream",
     "text": [
      "Training: 100%|██████████| 26/26 [13:56<00:00, 32.18s/it]\n"
     ]
    },
    {
     "name": "stdout",
     "output_type": "stream",
     "text": [
      "\n",
      "✅ Average training loss: 1.2641\n"
     ]
    },
    {
     "name": "stderr",
     "output_type": "stream",
     "text": [
      "Validation: 100%|██████████| 6/6 [00:50<00:00,  8.47s/it]\n"
     ]
    },
    {
     "name": "stdout",
     "output_type": "stream",
     "text": [
      "✅ Validation loss: 1.3435\n",
      "✅ Validation accuracy: 0.5290\n",
      "💾 Saved new best model.\n",
      "\n",
      "======== Epoch 3 / 13 ========\n"
     ]
    },
    {
     "name": "stderr",
     "output_type": "stream",
     "text": [
      "Training: 100%|██████████| 26/26 [13:51<00:00, 31.98s/it]\n"
     ]
    },
    {
     "name": "stdout",
     "output_type": "stream",
     "text": [
      "\n",
      "✅ Average training loss: 0.9200\n"
     ]
    },
    {
     "name": "stderr",
     "output_type": "stream",
     "text": [
      "Validation: 100%|██████████| 6/6 [00:48<00:00,  8.07s/it]\n"
     ]
    },
    {
     "name": "stdout",
     "output_type": "stream",
     "text": [
      "✅ Validation loss: 0.9890\n",
      "✅ Validation accuracy: 0.7493\n",
      "💾 Saved new best model.\n",
      "\n",
      "======== Epoch 4 / 13 ========\n"
     ]
    },
    {
     "name": "stderr",
     "output_type": "stream",
     "text": [
      "Training: 100%|██████████| 26/26 [13:46<00:00, 31.78s/it]\n"
     ]
    },
    {
     "name": "stdout",
     "output_type": "stream",
     "text": [
      "\n",
      "✅ Average training loss: 0.6578\n"
     ]
    },
    {
     "name": "stderr",
     "output_type": "stream",
     "text": [
      "Validation: 100%|██████████| 6/6 [00:51<00:00,  8.55s/it]\n"
     ]
    },
    {
     "name": "stdout",
     "output_type": "stream",
     "text": [
      "✅ Validation loss: 0.8333\n",
      "✅ Validation accuracy: 0.7269\n",
      "💾 Saved new best model.\n",
      "\n",
      "======== Epoch 5 / 13 ========\n"
     ]
    },
    {
     "name": "stderr",
     "output_type": "stream",
     "text": [
      "Training: 100%|██████████| 26/26 [13:45<00:00, 31.75s/it]\n"
     ]
    },
    {
     "name": "stdout",
     "output_type": "stream",
     "text": [
      "\n",
      "✅ Average training loss: 0.4846\n"
     ]
    },
    {
     "name": "stderr",
     "output_type": "stream",
     "text": [
      "Validation: 100%|██████████| 6/6 [00:50<00:00,  8.38s/it]\n"
     ]
    },
    {
     "name": "stdout",
     "output_type": "stream",
     "text": [
      "✅ Validation loss: 0.7413\n",
      "✅ Validation accuracy: 0.7269\n",
      "💾 Saved new best model.\n",
      "\n",
      "======== Epoch 6 / 13 ========\n"
     ]
    },
    {
     "name": "stderr",
     "output_type": "stream",
     "text": [
      "Training: 100%|██████████| 26/26 [13:32<00:00, 31.26s/it]\n"
     ]
    },
    {
     "name": "stdout",
     "output_type": "stream",
     "text": [
      "\n",
      "✅ Average training loss: 0.3891\n"
     ]
    },
    {
     "name": "stderr",
     "output_type": "stream",
     "text": [
      "Validation: 100%|██████████| 6/6 [00:48<00:00,  8.15s/it]\n"
     ]
    },
    {
     "name": "stdout",
     "output_type": "stream",
     "text": [
      "✅ Validation loss: 0.6177\n",
      "✅ Validation accuracy: 0.7924\n",
      "💾 Saved new best model.\n",
      "\n",
      "======== Epoch 7 / 13 ========\n"
     ]
    },
    {
     "name": "stderr",
     "output_type": "stream",
     "text": [
      "Training: 100%|██████████| 26/26 [13:31<00:00, 31.21s/it]\n"
     ]
    },
    {
     "name": "stdout",
     "output_type": "stream",
     "text": [
      "\n",
      "✅ Average training loss: 0.2935\n"
     ]
    },
    {
     "name": "stderr",
     "output_type": "stream",
     "text": [
      "Validation: 100%|██████████| 6/6 [00:52<00:00,  8.75s/it]\n"
     ]
    },
    {
     "name": "stdout",
     "output_type": "stream",
     "text": [
      "✅ Validation loss: 0.5604\n",
      "✅ Validation accuracy: 0.8341\n",
      "💾 Saved new best model.\n",
      "\n",
      "======== Epoch 8 / 13 ========\n"
     ]
    },
    {
     "name": "stderr",
     "output_type": "stream",
     "text": [
      "Training: 100%|██████████| 26/26 [13:12<00:00, 30.48s/it]\n"
     ]
    },
    {
     "name": "stdout",
     "output_type": "stream",
     "text": [
      "\n",
      "✅ Average training loss: 0.2399\n"
     ]
    },
    {
     "name": "stderr",
     "output_type": "stream",
     "text": [
      "Validation: 100%|██████████| 6/6 [00:48<00:00,  8.12s/it]\n"
     ]
    },
    {
     "name": "stdout",
     "output_type": "stream",
     "text": [
      "✅ Validation loss: 0.5226\n",
      "✅ Validation accuracy: 0.8289\n",
      "💾 Saved new best model.\n",
      "\n",
      "======== Epoch 9 / 13 ========\n"
     ]
    },
    {
     "name": "stderr",
     "output_type": "stream",
     "text": [
      "Training: 100%|██████████| 26/26 [13:48<00:00, 31.87s/it]\n"
     ]
    },
    {
     "name": "stdout",
     "output_type": "stream",
     "text": [
      "\n",
      "✅ Average training loss: 0.2073\n"
     ]
    },
    {
     "name": "stderr",
     "output_type": "stream",
     "text": [
      "Validation: 100%|██████████| 6/6 [00:48<00:00,  8.13s/it]\n"
     ]
    },
    {
     "name": "stdout",
     "output_type": "stream",
     "text": [
      "✅ Validation loss: 0.4890\n",
      "✅ Validation accuracy: 0.8326\n",
      "💾 Saved new best model.\n",
      "\n",
      "======== Epoch 10 / 13 ========\n"
     ]
    },
    {
     "name": "stderr",
     "output_type": "stream",
     "text": [
      "Training: 100%|██████████| 26/26 [13:59<00:00, 32.30s/it]\n"
     ]
    },
    {
     "name": "stdout",
     "output_type": "stream",
     "text": [
      "\n",
      "✅ Average training loss: 0.1617\n"
     ]
    },
    {
     "name": "stderr",
     "output_type": "stream",
     "text": [
      "Validation: 100%|██████████| 6/6 [00:49<00:00,  8.18s/it]\n"
     ]
    },
    {
     "name": "stdout",
     "output_type": "stream",
     "text": [
      "✅ Validation loss: 0.4526\n",
      "✅ Validation accuracy: 0.8720\n",
      "💾 Saved new best model.\n",
      "\n",
      "======== Epoch 11 / 13 ========\n"
     ]
    },
    {
     "name": "stderr",
     "output_type": "stream",
     "text": [
      "Training: 100%|██████████| 26/26 [13:52<00:00, 32.01s/it]\n"
     ]
    },
    {
     "name": "stdout",
     "output_type": "stream",
     "text": [
      "\n",
      "✅ Average training loss: 0.1578\n"
     ]
    },
    {
     "name": "stderr",
     "output_type": "stream",
     "text": [
      "Validation: 100%|██████████| 6/6 [00:52<00:00,  8.73s/it]\n"
     ]
    },
    {
     "name": "stdout",
     "output_type": "stream",
     "text": [
      "✅ Validation loss: 0.4290\n",
      "✅ Validation accuracy: 0.8824\n",
      "💾 Saved new best model.\n",
      "\n",
      "======== Epoch 12 / 13 ========\n"
     ]
    },
    {
     "name": "stderr",
     "output_type": "stream",
     "text": [
      "Training: 100%|██████████| 26/26 [14:00<00:00, 32.33s/it]\n"
     ]
    },
    {
     "name": "stdout",
     "output_type": "stream",
     "text": [
      "\n",
      "✅ Average training loss: 0.1269\n"
     ]
    },
    {
     "name": "stderr",
     "output_type": "stream",
     "text": [
      "Validation: 100%|██████████| 6/6 [00:50<00:00,  8.37s/it]\n"
     ]
    },
    {
     "name": "stdout",
     "output_type": "stream",
     "text": [
      "✅ Validation loss: 0.4162\n",
      "✅ Validation accuracy: 0.8824\n",
      "💾 Saved new best model.\n",
      "\n",
      "======== Epoch 13 / 13 ========\n"
     ]
    },
    {
     "name": "stderr",
     "output_type": "stream",
     "text": [
      "Training: 100%|██████████| 26/26 [13:59<00:00, 32.28s/it]\n"
     ]
    },
    {
     "name": "stdout",
     "output_type": "stream",
     "text": [
      "\n",
      "✅ Average training loss: 0.1222\n"
     ]
    },
    {
     "name": "stderr",
     "output_type": "stream",
     "text": [
      "Validation: 100%|██████████| 6/6 [00:52<00:00,  8.70s/it]\n"
     ]
    },
    {
     "name": "stdout",
     "output_type": "stream",
     "text": [
      "✅ Validation loss: 0.4162\n",
      "✅ Validation accuracy: 0.8876\n",
      "💾 Saved new best model.\n",
      "📝 Training log saved to training_log.csv\n"
     ]
    }
   ],
   "source": [
    "train(model, train_dataloader, val_dataloader, optimizer, scheduler, epochs=13)\n"
   ]
  },
  {
   "cell_type": "code",
   "execution_count": 19,
   "metadata": {},
   "outputs": [
    {
     "data": {
      "text/plain": [
       "('scibert_6label_model_combined_data/tokenizer_config.json',\n",
       " 'scibert_6label_model_combined_data/special_tokens_map.json',\n",
       " 'scibert_6label_model_combined_data/vocab.txt',\n",
       " 'scibert_6label_model_combined_data/added_tokens.json')"
      ]
     },
     "execution_count": 19,
     "metadata": {},
     "output_type": "execute_result"
    }
   ],
   "source": [
    "model.save_pretrained(\"scibert_6label_model_final_ep13\")\n",
    "tokenizer.save_pretrained(\"scibert_6label_model_final_ep13\")\n"
   ]
  },
  {
   "cell_type": "code",
   "execution_count": 19,
   "metadata": {},
   "outputs": [
    {
     "data": {
      "text/plain": [
       "BertForSequenceClassification(\n",
       "  (bert): BertModel(\n",
       "    (embeddings): BertEmbeddings(\n",
       "      (word_embeddings): Embedding(31091, 768, padding_idx=0)\n",
       "      (position_embeddings): Embedding(512, 768)\n",
       "      (token_type_embeddings): Embedding(2, 768)\n",
       "      (LayerNorm): LayerNorm((768,), eps=1e-12, elementwise_affine=True)\n",
       "      (dropout): Dropout(p=0.1, inplace=False)\n",
       "    )\n",
       "    (encoder): BertEncoder(\n",
       "      (layer): ModuleList(\n",
       "        (0-11): 12 x BertLayer(\n",
       "          (attention): BertAttention(\n",
       "            (self): BertSelfAttention(\n",
       "              (query): Linear(in_features=768, out_features=768, bias=True)\n",
       "              (key): Linear(in_features=768, out_features=768, bias=True)\n",
       "              (value): Linear(in_features=768, out_features=768, bias=True)\n",
       "              (dropout): Dropout(p=0.1, inplace=False)\n",
       "            )\n",
       "            (output): BertSelfOutput(\n",
       "              (dense): Linear(in_features=768, out_features=768, bias=True)\n",
       "              (LayerNorm): LayerNorm((768,), eps=1e-12, elementwise_affine=True)\n",
       "              (dropout): Dropout(p=0.1, inplace=False)\n",
       "            )\n",
       "          )\n",
       "          (intermediate): BertIntermediate(\n",
       "            (dense): Linear(in_features=768, out_features=3072, bias=True)\n",
       "            (intermediate_act_fn): GELUActivation()\n",
       "          )\n",
       "          (output): BertOutput(\n",
       "            (dense): Linear(in_features=3072, out_features=768, bias=True)\n",
       "            (LayerNorm): LayerNorm((768,), eps=1e-12, elementwise_affine=True)\n",
       "            (dropout): Dropout(p=0.1, inplace=False)\n",
       "          )\n",
       "        )\n",
       "      )\n",
       "    )\n",
       "    (pooler): BertPooler(\n",
       "      (dense): Linear(in_features=768, out_features=768, bias=True)\n",
       "      (activation): Tanh()\n",
       "    )\n",
       "  )\n",
       "  (dropout): Dropout(p=0.1, inplace=False)\n",
       "  (classifier): Linear(in_features=768, out_features=6, bias=True)\n",
       ")"
      ]
     },
     "execution_count": 19,
     "metadata": {},
     "output_type": "execute_result"
    }
   ],
   "source": [
    "from transformers import AutoModelForSequenceClassification, AutoTokenizer\n",
    "\n",
    "model = AutoModelForSequenceClassification.from_pretrained(\"scibert_6label_model_final_ep13\")\n",
    "tokenizer = AutoTokenizer.from_pretrained(\"scibert_6label_model_final_ep13\")\n",
    "model.to(device)\n",
    "\n"
   ]
  },
  {
   "cell_type": "code",
   "execution_count": 20,
   "metadata": {},
   "outputs": [],
   "source": [
    "id2label = {\n",
    "    0: \"background\",\n",
    "    1: \"uses\",\n",
    "    2: \"compares\",\n",
    "    3: \"continuation\",\n",
    "    4: \"motivation\",\n",
    "    5: \"future\"\n",
    "}\n",
    "label2id = {v: k for k, v in id2label.items()}\n",
    "\n",
    "model.config.id2label = id2label\n",
    "model.config.label2id = label2id"
   ]
  },
  {
   "cell_type": "code",
   "execution_count": 21,
   "metadata": {},
   "outputs": [],
   "source": [
    "from transformers import BertForSequenceClassification, BertTokenizer\n",
    "\n",
    "model = BertForSequenceClassification.from_pretrained(\"scibert_6label_model_final_ep13\")\n",
    "tokenizer = BertTokenizer.from_pretrained(\"scibert_6label_model_final_ep13\")\n",
    "\n",
    "# Manually set correct label mapping\n",
    "model.config.id2label = {\n",
    "    0: \"background\",\n",
    "    1: \"uses\",\n",
    "    2: \"compares\",\n",
    "    3: \"continuation\",\n",
    "    4: \"motivation\",\n",
    "    5: \"future\"\n",
    "}\n",
    "model.config.label2id = {v: k for k, v in model.config.id2label.items()}\n"
   ]
  },
  {
   "cell_type": "code",
   "execution_count": 22,
   "metadata": {},
   "outputs": [],
   "source": [
    "# \n",
    "def predict_citation_function(text):\n",
    "    model.eval()\n",
    "    encoded = tokenizer(text, return_tensors=\"pt\", padding=\"max_length\", truncation=True, max_length=256)\n",
    "    encoded = {k: v.to(device) for k, v in encoded.items()}\n",
    "    with torch.no_grad():\n",
    "        logits = model(**encoded).logits\n",
    "    pred = torch.argmax(logits, dim=1).item()\n",
    "    return id2label[pred]\n"
   ]
  },
  {
   "cell_type": "code",
   "execution_count": 23,
   "metadata": {},
   "outputs": [
    {
     "name": "stdout",
     "output_type": "stream",
     "text": [
      "📊 Classification Report on Test Set\n",
      "              precision    recall  f1-score   support\n",
      "\n",
      "  background       0.93      0.87      0.90        90\n",
      "        uses       0.91      0.88      0.89        33\n",
      "    compares       0.65      0.77      0.71        31\n",
      "continuation       1.00      1.00      1.00         6\n",
      "  motivation       1.00      0.75      0.86         8\n",
      "      future       0.67      1.00      0.80         6\n",
      "\n",
      "    accuracy                           0.86       174\n",
      "   macro avg       0.86      0.88      0.86       174\n",
      "weighted avg       0.87      0.86      0.86       174\n",
      "\n"
     ]
    }
   ],
   "source": [
    "from sklearn.metrics import classification_report, confusion_matrix\n",
    "import seaborn as sns\n",
    "import matplotlib.pyplot as plt\n",
    "\n",
    "model.eval()\n",
    "all_preds = []\n",
    "all_labels = []\n",
    "\n",
    "for batch in test_dataloader:\n",
    "    b_input_ids, b_input_mask, b_token_type_ids, b_labels = [t.to(device) for t in batch]\n",
    "\n",
    "    with torch.no_grad():\n",
    "        outputs = model(\n",
    "            input_ids=b_input_ids,\n",
    "            attention_mask=b_input_mask,\n",
    "            token_type_ids=b_token_type_ids\n",
    "        )\n",
    "\n",
    "    logits = outputs.logits\n",
    "    preds = torch.argmax(logits, dim=1).cpu().numpy()\n",
    "    label_ids = b_labels.cpu().numpy()\n",
    "\n",
    "    all_preds.extend(preds)\n",
    "    all_labels.extend(label_ids)\n",
    "\n",
    "# Map label IDs to names\n",
    "id2label = {v: k for k, v in label2id.items()}\n",
    "target_names = [id2label[i] for i in range(len(label2id))]\n",
    "\n",
    "# Print classification report\n",
    "print(\"📊 Classification Report on Test Set\")\n",
    "print(classification_report(all_labels, all_preds, target_names=target_names))\n"
   ]
  },
  {
   "cell_type": "code",
   "execution_count": 24,
   "metadata": {},
   "outputs": [
    {
     "data": {
      "image/png": "[encoded data removed]",
      "text/plain": [
       "<Figure size 800x600 with 2 Axes>"
      ]
     },
     "metadata": {},
     "output_type": "display_data"
    }
   ],
   "source": [
    "#Plot Confusion Matrix\n",
    "cm = confusion_matrix(all_labels, all_preds)\n",
    "plt.figure(figsize=(8, 6))\n",
    "sns.heatmap(cm, annot=True, fmt=\"d\", xticklabels=target_names, yticklabels=target_names, cmap=\"Blues\")\n",
    "plt.xlabel(\"Predicted Label\")\n",
    "plt.ylabel(\"True Label\")\n",
    "plt.title(\"Confusion Matrix on Test Set\")\n",
    "plt.show()\n"
   ]
  },
  {
   "cell_type": "code",
   "execution_count": 25,
   "metadata": {},
   "outputs": [],
   "source": [
    "import torch.nn.functional as F\n",
    "\n",
    "def collect_softmax_for_all(X_test, y_test, tokenizer, model, device):\n",
    "    results = []\n",
    "\n",
    "    for i, (text, true_label) in enumerate(zip(X_test, y_test)):\n",
    "        inputs = tokenizer(text, return_tensors=\"pt\", truncation=True, padding=\"max_length\", max_length=256)\n",
    "        inputs = {k: v.to(device) for k, v in inputs.items()}\n",
    "\n",
    "        with torch.no_grad():\n",
    "            logits = model(**inputs).logits\n",
    "            probs = F.softmax(logits, dim=1).squeeze().cpu().numpy()\n",
    "            pred_id = int(torch.argmax(logits, dim=1).cpu().item())\n",
    "\n",
    "        sorted_probs = sorted([(j, p) for j, p in enumerate(probs)], key=lambda x: x[1], reverse=True)\n",
    "        top_2 = [(id2label[j], float(f\"{p:.4f}\")) for j, p in sorted_probs[:2]]\n",
    "\n",
    "        result = {\n",
    "            \"example_index\": i + 1,\n",
    "            \"text\": text,\n",
    "            \"true_label\": id2label[true_label],\n",
    "            \"predicted_label\": id2label[pred_id],\n",
    "            \"top_2_predictions\": top_2\n",
    "        }\n",
    "\n",
    "        results.append(result)\n",
    "\n",
    "    return results\n"
   ]
  },
  {
   "cell_type": "code",
   "execution_count": 26,
   "metadata": {},
   "outputs": [
    {
     "data": {
      "text/html": [
       "<div>\n",
       "<style scoped>\n",
       "    .dataframe tbody tr th:only-of-type {\n",
       "        vertical-align: middle;\n",
       "    }\n",
       "\n",
       "    .dataframe tbody tr th {\n",
       "        vertical-align: top;\n",
       "    }\n",
       "\n",
       "    .dataframe thead th {\n",
       "        text-align: right;\n",
       "    }\n",
       "</style>\n",
       "<table border=\"1\" class=\"dataframe\">\n",
       "  <thead>\n",
       "    <tr style=\"text-align: right;\">\n",
       "      <th></th>\n",
       "      <th>Example</th>\n",
       "      <th>True Label</th>\n",
       "      <th>Predicted Label</th>\n",
       "      <th>Top 1</th>\n",
       "      <th>Top 2</th>\n",
       "      <th>Text</th>\n",
       "    </tr>\n",
       "  </thead>\n",
       "  <tbody>\n",
       "    <tr>\n",
       "      <th>0</th>\n",
       "      <td>1</td>\n",
       "      <td>background</td>\n",
       "      <td>background</td>\n",
       "      <td>background (0.91)</td>\n",
       "      <td>compares (0.05)</td>\n",
       "      <td>â¢ Learnability ( Zernik and Dyer 1987 ) â¢ ...</td>\n",
       "    </tr>\n",
       "    <tr>\n",
       "      <th>1</th>\n",
       "      <td>2</td>\n",
       "      <td>continuation</td>\n",
       "      <td>continuation</td>\n",
       "      <td>continuation (0.44)</td>\n",
       "      <td>compares (0.28)</td>\n",
       "      <td>Previously ( @@CITATION ) , we assessed the im...</td>\n",
       "    </tr>\n",
       "    <tr>\n",
       "      <th>2</th>\n",
       "      <td>3</td>\n",
       "      <td>uses</td>\n",
       "      <td>uses</td>\n",
       "      <td>uses (0.97)</td>\n",
       "      <td>continuation (0.01)</td>\n",
       "      <td>To build the above s2t system , we first use t...</td>\n",
       "    </tr>\n",
       "    <tr>\n",
       "      <th>3</th>\n",
       "      <td>4</td>\n",
       "      <td>background</td>\n",
       "      <td>background</td>\n",
       "      <td>background (0.91)</td>\n",
       "      <td>future (0.03)</td>\n",
       "      <td>This system has been successfully tested with ...</td>\n",
       "    </tr>\n",
       "    <tr>\n",
       "      <th>4</th>\n",
       "      <td>5</td>\n",
       "      <td>uses</td>\n",
       "      <td>uses</td>\n",
       "      <td>uses (0.82)</td>\n",
       "      <td>background (0.05)</td>\n",
       "      <td>A statistical technique which has recently bec...</td>\n",
       "    </tr>\n",
       "    <tr>\n",
       "      <th>...</th>\n",
       "      <td>...</td>\n",
       "      <td>...</td>\n",
       "      <td>...</td>\n",
       "      <td>...</td>\n",
       "      <td>...</td>\n",
       "      <td>...</td>\n",
       "    </tr>\n",
       "    <tr>\n",
       "      <th>169</th>\n",
       "      <td>170</td>\n",
       "      <td>background</td>\n",
       "      <td>compares</td>\n",
       "      <td>compares (0.60)</td>\n",
       "      <td>background (0.36)</td>\n",
       "      <td>This is the strongest version of the sorites p...</td>\n",
       "    </tr>\n",
       "    <tr>\n",
       "      <th>170</th>\n",
       "      <td>171</td>\n",
       "      <td>compares</td>\n",
       "      <td>compares</td>\n",
       "      <td>compares (0.94)</td>\n",
       "      <td>background (0.03)</td>\n",
       "      <td>This was done because purely unsupervised tech...</td>\n",
       "    </tr>\n",
       "    <tr>\n",
       "      <th>171</th>\n",
       "      <td>172</td>\n",
       "      <td>background</td>\n",
       "      <td>background</td>\n",
       "      <td>background (0.95)</td>\n",
       "      <td>compares (0.01)</td>\n",
       "      <td>Discriminative approaches ( especially SVMs ) ...</td>\n",
       "    </tr>\n",
       "    <tr>\n",
       "      <th>172</th>\n",
       "      <td>173</td>\n",
       "      <td>uses</td>\n",
       "      <td>uses</td>\n",
       "      <td>uses (0.94)</td>\n",
       "      <td>continuation (0.02)</td>\n",
       "      <td>Other molecular biology databases We also incl...</td>\n",
       "    </tr>\n",
       "    <tr>\n",
       "      <th>173</th>\n",
       "      <td>174</td>\n",
       "      <td>background</td>\n",
       "      <td>compares</td>\n",
       "      <td>compares (0.35)</td>\n",
       "      <td>continuation (0.21)</td>\n",
       "      <td>We have presented an ensemble approach to word...</td>\n",
       "    </tr>\n",
       "  </tbody>\n",
       "</table>\n",
       "<p>174 rows × 6 columns</p>\n",
       "</div>"
      ],
      "text/plain": [
       "     Example    True Label Predicted Label                Top 1  \\\n",
       "0          1    background      background    background (0.91)   \n",
       "1          2  continuation    continuation  continuation (0.44)   \n",
       "2          3          uses            uses          uses (0.97)   \n",
       "3          4    background      background    background (0.91)   \n",
       "4          5          uses            uses          uses (0.82)   \n",
       "..       ...           ...             ...                  ...   \n",
       "169      170    background        compares      compares (0.60)   \n",
       "170      171      compares        compares      compares (0.94)   \n",
       "171      172    background      background    background (0.95)   \n",
       "172      173          uses            uses          uses (0.94)   \n",
       "173      174    background        compares      compares (0.35)   \n",
       "\n",
       "                   Top 2                                               Text  \n",
       "0        compares (0.05)  â¢ Learnability ( Zernik and Dyer 1987 ) â¢ ...  \n",
       "1        compares (0.28)  Previously ( @@CITATION ) , we assessed the im...  \n",
       "2    continuation (0.01)  To build the above s2t system , we first use t...  \n",
       "3          future (0.03)  This system has been successfully tested with ...  \n",
       "4      background (0.05)  A statistical technique which has recently bec...  \n",
       "..                   ...                                                ...  \n",
       "169    background (0.36)  This is the strongest version of the sorites p...  \n",
       "170    background (0.03)  This was done because purely unsupervised tech...  \n",
       "171      compares (0.01)  Discriminative approaches ( especially SVMs ) ...  \n",
       "172  continuation (0.02)  Other molecular biology databases We also incl...  \n",
       "173  continuation (0.21)  We have presented an ensemble approach to word...  \n",
       "\n",
       "[174 rows x 6 columns]"
      ]
     },
     "metadata": {},
     "output_type": "display_data"
    }
   ],
   "source": [
    "import pandas as pd\n",
    "\n",
    "results_list = collect_softmax_for_all(X_test, y_test, tokenizer, model, device)\n",
    "\n",
    "df = pd.DataFrame([\n",
    "    {\n",
    "        \"Example\": r[\"example_index\"],\n",
    "        \"True Label\": r[\"true_label\"],\n",
    "        \"Predicted Label\": r[\"predicted_label\"],\n",
    "        \"Top 1\": f\"{r['top_2_predictions'][0][0]} ({r['top_2_predictions'][0][1]:.2f})\",\n",
    "        \"Top 2\": f\"{r['top_2_predictions'][1][0]} ({r['top_2_predictions'][1][1]:.2f})\",\n",
    "        \"Text\": r[\"text\"][:100] + (\"...\" if len(r[\"text\"]) > 100 else \"\")\n",
    "    }\n",
    "    for r in results_list\n",
    "])\n",
    "\n",
    "# Display the table in Jupyter Notebook\n",
    "display(df)\n"
   ]
  },
  {
   "cell_type": "code",
   "execution_count": 39,
   "metadata": {},
   "outputs": [],
   "source": [
    "df.to_csv(\"test_predictions.csv\", index=False)\n"
   ]
  }
 ],
 "metadata": {
  "accelerator": "GPU",
  "colab": {
   "authorship_tag": "ABX9TyMz3d6BlE2wNPNgKrsRO+Nl",
   "mount_file_id": "1oBKroMlV0FIVnFHPmOwAgIbf-iRAps_O",
   "name": "AlgoCite - Finetuning SciBert Full Version.ipynb",
   "provenance": []
  },
  "kernelspec": {
   "display_name": "Python (myenv)",
   "language": "python",
   "name": "myenv"
  },
  "language_info": {
   "codemirror_mode": {
    "name": "ipython",
    "version": 3
   },
   "file_extension": ".py",
   "mimetype": "text/x-python",
   "name": "python",
   "nbconvert_exporter": "python",
   "pygments_lexer": "ipython3",
   "version": "3.10.16"
  },
  "widgets": {
   "application/vnd.jupyter.widget-state+json": {
    "1c61ec5d5a7b4259b450dfec9cb5a3ff": {
     "model_module": "@jupyter-widgets/controls",
     "model_module_version": "1.5.0",
     "model_name": "ProgressStyleModel",
     "state": {
      "_model_module": "@jupyter-widgets/controls",
      "_model_module_version": "1.5.0",
      "_model_name": "ProgressStyleModel",
      "_view_count": null,
      "_view_module": "@jupyter-widgets/base",
      "_view_module_version": "1.2.0",
      "_view_name": "StyleView",
      "bar_color": null,
      "description_width": ""
     }
    },
    "1e9c9d8d05fb4ddda00b0f51dd41fb90": {
     "model_module": "@jupyter-widgets/controls",
     "model_module_version": "1.5.0",
     "model_name": "ProgressStyleModel",
     "state": {
      "_model_module": "@jupyter-widgets/controls",
      "_model_module_version": "1.5.0",
      "_model_name": "ProgressStyleModel",
      "_view_count": null,
      "_view_module": "@jupyter-widgets/base",
      "_view_module_version": "1.2.0",
      "_view_name": "StyleView",
      "bar_color": null,
      "description_width": ""
     }
    },
    "33dec13ebefa47f998fa2b531795433b": {
     "model_module": "@jupyter-widgets/controls",
     "model_module_version": "1.5.0",
     "model_name": "HBoxModel",
     "state": {
      "_dom_classes": [],
      "_model_module": "@jupyter-widgets/controls",
      "_model_module_version": "1.5.0",
      "_model_name": "HBoxModel",
      "_view_count": null,
      "_view_module": "@jupyter-widgets/controls",
      "_view_module_version": "1.5.0",
      "_view_name": "HBoxView",
      "box_style": "",
      "children": [
       "IPY_MODEL_b8ddfffbeb0747fbac66d26ea7d2f711",
       "IPY_MODEL_4d146986793e4910b0718324bb8937ae",
       "IPY_MODEL_a2af500222f841cb9bd59ff62b220427"
      ],
      "layout": "IPY_MODEL_fc82743aef59456bac1d910c8253ce18"
     }
    },
    "4154a003c626419b9c47a540e53fa428": {
     "model_module": "@jupyter-widgets/controls",
     "model_module_version": "1.5.0",
     "model_name": "HBoxModel",
     "state": {
      "_dom_classes": [],
      "_model_module": "@jupyter-widgets/controls",
      "_model_module_version": "1.5.0",
      "_model_name": "HBoxModel",
      "_view_count": null,
      "_view_module": "@jupyter-widgets/controls",
      "_view_module_version": "1.5.0",
      "_view_name": "HBoxView",
      "box_style": "",
      "children": [
       "IPY_MODEL_a8cc0af7284048548b56503d8f16139a",
       "IPY_MODEL_f46c913c776841a8a3be19681986ce1a",
       "IPY_MODEL_bd4178909db141819c80c6ee46ade5a8"
      ],
      "layout": "IPY_MODEL_845d4da555684b0f96a6dd20d6ef57fa"
     }
    },
    "471aaa34c8b341189bbc206315edefbe": {
     "model_module": "@jupyter-widgets/base",
     "model_module_version": "1.2.0",
     "model_name": "LayoutModel",
     "state": {
      "_model_module": "@jupyter-widgets/base",
      "_model_module_version": "1.2.0",
      "_model_name": "LayoutModel",
      "_view_count": null,
      "_view_module": "@jupyter-widgets/base",
      "_view_module_version": "1.2.0",
      "_view_name": "LayoutView",
      "align_content": null,
      "align_items": null,
      "align_self": null,
      "border": null,
      "bottom": null,
      "display": null,
      "flex": null,
      "flex_flow": null,
      "grid_area": null,
      "grid_auto_columns": null,
      "grid_auto_flow": null,
      "grid_auto_rows": null,
      "grid_column": null,
      "grid_gap": null,
      "grid_row": null,
      "grid_template_areas": null,
      "grid_template_columns": null,
      "grid_template_rows": null,
      "height": null,
      "justify_content": null,
      "justify_items": null,
      "left": null,
      "margin": null,
      "max_height": null,
      "max_width": null,
      "min_height": null,
      "min_width": null,
      "object_fit": null,
      "object_position": null,
      "order": null,
      "overflow": null,
      "overflow_x": null,
      "overflow_y": null,
      "padding": null,
      "right": null,
      "top": null,
      "visibility": null,
      "width": null
     }
    },
    "4a704fde880e4e119dd60c8f7c13b737": {
     "model_module": "@jupyter-widgets/controls",
     "model_module_version": "1.5.0",
     "model_name": "HTMLModel",
     "state": {
      "_dom_classes": [],
      "_model_module": "@jupyter-widgets/controls",
      "_model_module_version": "1.5.0",
      "_model_name": "HTMLModel",
      "_view_count": null,
      "_view_module": "@jupyter-widgets/controls",
      "_view_module_version": "1.5.0",
      "_view_name": "HTMLView",
      "description": "",
      "description_tooltip": null,
      "layout": "IPY_MODEL_9b447b71e1eb4a65b30858bdd7cd4c6e",
      "placeholder": "​",
      "style": "IPY_MODEL_b22ab15795ca4d5d9c6abab7bd163cd6",
      "value": "Downloading: 100%"
     }
    },
    "4c5dd318ba8e4d5d8ebf2f1bef650efa": {
     "model_module": "@jupyter-widgets/base",
     "model_module_version": "1.2.0",
     "model_name": "LayoutModel",
     "state": {
      "_model_module": "@jupyter-widgets/base",
      "_model_module_version": "1.2.0",
      "_model_name": "LayoutModel",
      "_view_count": null,
      "_view_module": "@jupyter-widgets/base",
      "_view_module_version": "1.2.0",
      "_view_name": "LayoutView",
      "align_content": null,
      "align_items": null,
      "align_self": null,
      "border": null,
      "bottom": null,
      "display": null,
      "flex": null,
      "flex_flow": null,
      "grid_area": null,
      "grid_auto_columns": null,
      "grid_auto_flow": null,
      "grid_auto_rows": null,
      "grid_column": null,
      "grid_gap": null,
      "grid_row": null,
      "grid_template_areas": null,
      "grid_template_columns": null,
      "grid_template_rows": null,
      "height": null,
      "justify_content": null,
      "justify_items": null,
      "left": null,
      "margin": null,
      "max_height": null,
      "max_width": null,
      "min_height": null,
      "min_width": null,
      "object_fit": null,
      "object_position": null,
      "order": null,
      "overflow": null,
      "overflow_x": null,
      "overflow_y": null,
      "padding": null,
      "right": null,
      "top": null,
      "visibility": null,
      "width": null
     }
    },
    "4d146986793e4910b0718324bb8937ae": {
     "model_module": "@jupyter-widgets/controls",
     "model_module_version": "1.5.0",
     "model_name": "FloatProgressModel",
     "state": {
      "_dom_classes": [],
      "_model_module": "@jupyter-widgets/controls",
      "_model_module_version": "1.5.0",
      "_model_name": "FloatProgressModel",
      "_view_count": null,
      "_view_module": "@jupyter-widgets/controls",
      "_view_module_version": "1.5.0",
      "_view_name": "ProgressView",
      "bar_style": "success",
      "description": "",
      "description_tooltip": null,
      "layout": "IPY_MODEL_7761a9de35a542049e7b1dc599b51472",
      "max": 442221694,
      "min": 0,
      "orientation": "horizontal",
      "style": "IPY_MODEL_1e9c9d8d05fb4ddda00b0f51dd41fb90",
      "value": 442221694
     }
    },
    "59856599c9b64d6293963962306c48bb": {
     "model_module": "@jupyter-widgets/base",
     "model_module_version": "1.2.0",
     "model_name": "LayoutModel",
     "state": {
      "_model_module": "@jupyter-widgets/base",
      "_model_module_version": "1.2.0",
      "_model_name": "LayoutModel",
      "_view_count": null,
      "_view_module": "@jupyter-widgets/base",
      "_view_module_version": "1.2.0",
      "_view_name": "LayoutView",
      "align_content": null,
      "align_items": null,
      "align_self": null,
      "border": null,
      "bottom": null,
      "display": null,
      "flex": null,
      "flex_flow": null,
      "grid_area": null,
      "grid_auto_columns": null,
      "grid_auto_flow": null,
      "grid_auto_rows": null,
      "grid_column": null,
      "grid_gap": null,
      "grid_row": null,
      "grid_template_areas": null,
      "grid_template_columns": null,
      "grid_template_rows": null,
      "height": null,
      "justify_content": null,
      "justify_items": null,
      "left": null,
      "margin": null,
      "max_height": null,
      "max_width": null,
      "min_height": null,
      "min_width": null,
      "object_fit": null,
      "object_position": null,
      "order": null,
      "overflow": null,
      "overflow_x": null,
      "overflow_y": null,
      "padding": null,
      "right": null,
      "top": null,
      "visibility": null,
      "width": null
     }
    },
    "60b38f7133864f049bff92787313367f": {
     "model_module": "@jupyter-widgets/controls",
     "model_module_version": "1.5.0",
     "model_name": "DescriptionStyleModel",
     "state": {
      "_model_module": "@jupyter-widgets/controls",
      "_model_module_version": "1.5.0",
      "_model_name": "DescriptionStyleModel",
      "_view_count": null,
      "_view_module": "@jupyter-widgets/base",
      "_view_module_version": "1.2.0",
      "_view_name": "StyleView",
      "description_width": ""
     }
    },
    "633006ea85464d818db0614bdf863dcd": {
     "model_module": "@jupyter-widgets/controls",
     "model_module_version": "1.5.0",
     "model_name": "FloatProgressModel",
     "state": {
      "_dom_classes": [],
      "_model_module": "@jupyter-widgets/controls",
      "_model_module_version": "1.5.0",
      "_model_name": "FloatProgressModel",
      "_view_count": null,
      "_view_module": "@jupyter-widgets/controls",
      "_view_module_version": "1.5.0",
      "_view_name": "ProgressView",
      "bar_style": "success",
      "description": "",
      "description_tooltip": null,
      "layout": "IPY_MODEL_c300b2baaaba46299461339ac05915e4",
      "max": 385,
      "min": 0,
      "orientation": "horizontal",
      "style": "IPY_MODEL_ad4280a9f38343a59cb2947155cebca8",
      "value": 385
     }
    },
    "70cba6820a9e4e22ad87e251f5857801": {
     "model_module": "@jupyter-widgets/base",
     "model_module_version": "1.2.0",
     "model_name": "LayoutModel",
     "state": {
      "_model_module": "@jupyter-widgets/base",
      "_model_module_version": "1.2.0",
      "_model_name": "LayoutModel",
      "_view_count": null,
      "_view_module": "@jupyter-widgets/base",
      "_view_module_version": "1.2.0",
      "_view_name": "LayoutView",
      "align_content": null,
      "align_items": null,
      "align_self": null,
      "border": null,
      "bottom": null,
      "display": null,
      "flex": null,
      "flex_flow": null,
      "grid_area": null,
      "grid_auto_columns": null,
      "grid_auto_flow": null,
      "grid_auto_rows": null,
      "grid_column": null,
      "grid_gap": null,
      "grid_row": null,
      "grid_template_areas": null,
      "grid_template_columns": null,
      "grid_template_rows": null,
      "height": null,
      "justify_content": null,
      "justify_items": null,
      "left": null,
      "margin": null,
      "max_height": null,
      "max_width": null,
      "min_height": null,
      "min_width": null,
      "object_fit": null,
      "object_position": null,
      "order": null,
      "overflow": null,
      "overflow_x": null,
      "overflow_y": null,
      "padding": null,
      "right": null,
      "top": null,
      "visibility": null,
      "width": null
     }
    },
    "7761a9de35a542049e7b1dc599b51472": {
     "model_module": "@jupyter-widgets/base",
     "model_module_version": "1.2.0",
     "model_name": "LayoutModel",
     "state": {
      "_model_module": "@jupyter-widgets/base",
      "_model_module_version": "1.2.0",
      "_model_name": "LayoutModel",
      "_view_count": null,
      "_view_module": "@jupyter-widgets/base",
      "_view_module_version": "1.2.0",
      "_view_name": "LayoutView",
      "align_content": null,
      "align_items": null,
      "align_self": null,
      "border": null,
      "bottom": null,
      "display": null,
      "flex": null,
      "flex_flow": null,
      "grid_area": null,
      "grid_auto_columns": null,
      "grid_auto_flow": null,
      "grid_auto_rows": null,
      "grid_column": null,
      "grid_gap": null,
      "grid_row": null,
      "grid_template_areas": null,
      "grid_template_columns": null,
      "grid_template_rows": null,
      "height": null,
      "justify_content": null,
      "justify_items": null,
      "left": null,
      "margin": null,
      "max_height": null,
      "max_width": null,
      "min_height": null,
      "min_width": null,
      "object_fit": null,
      "object_position": null,
      "order": null,
      "overflow": null,
      "overflow_x": null,
      "overflow_y": null,
      "padding": null,
      "right": null,
      "top": null,
      "visibility": null,
      "width": null
     }
    },
    "845d4da555684b0f96a6dd20d6ef57fa": {
     "model_module": "@jupyter-widgets/base",
     "model_module_version": "1.2.0",
     "model_name": "LayoutModel",
     "state": {
      "_model_module": "@jupyter-widgets/base",
      "_model_module_version": "1.2.0",
      "_model_name": "LayoutModel",
      "_view_count": null,
      "_view_module": "@jupyter-widgets/base",
      "_view_module_version": "1.2.0",
      "_view_name": "LayoutView",
      "align_content": null,
      "align_items": null,
      "align_self": null,
      "border": null,
      "bottom": null,
      "display": null,
      "flex": null,
      "flex_flow": null,
      "grid_area": null,
      "grid_auto_columns": null,
      "grid_auto_flow": null,
      "grid_auto_rows": null,
      "grid_column": null,
      "grid_gap": null,
      "grid_row": null,
      "grid_template_areas": null,
      "grid_template_columns": null,
      "grid_template_rows": null,
      "height": null,
      "justify_content": null,
      "justify_items": null,
      "left": null,
      "margin": null,
      "max_height": null,
      "max_width": null,
      "min_height": null,
      "min_width": null,
      "object_fit": null,
      "object_position": null,
      "order": null,
      "overflow": null,
      "overflow_x": null,
      "overflow_y": null,
      "padding": null,
      "right": null,
      "top": null,
      "visibility": null,
      "width": null
     }
    },
    "96f1bc563b044f3b85933aee03d61598": {
     "model_module": "@jupyter-widgets/controls",
     "model_module_version": "1.5.0",
     "model_name": "DescriptionStyleModel",
     "state": {
      "_model_module": "@jupyter-widgets/controls",
      "_model_module_version": "1.5.0",
      "_model_name": "DescriptionStyleModel",
      "_view_count": null,
      "_view_module": "@jupyter-widgets/base",
      "_view_module_version": "1.2.0",
      "_view_name": "StyleView",
      "description_width": ""
     }
    },
    "9b447b71e1eb4a65b30858bdd7cd4c6e": {
     "model_module": "@jupyter-widgets/base",
     "model_module_version": "1.2.0",
     "model_name": "LayoutModel",
     "state": {
      "_model_module": "@jupyter-widgets/base",
      "_model_module_version": "1.2.0",
      "_model_name": "LayoutModel",
      "_view_count": null,
      "_view_module": "@jupyter-widgets/base",
      "_view_module_version": "1.2.0",
      "_view_name": "LayoutView",
      "align_content": null,
      "align_items": null,
      "align_self": null,
      "border": null,
      "bottom": null,
      "display": null,
      "flex": null,
      "flex_flow": null,
      "grid_area": null,
      "grid_auto_columns": null,
      "grid_auto_flow": null,
      "grid_auto_rows": null,
      "grid_column": null,
      "grid_gap": null,
      "grid_row": null,
      "grid_template_areas": null,
      "grid_template_columns": null,
      "grid_template_rows": null,
      "height": null,
      "justify_content": null,
      "justify_items": null,
      "left": null,
      "margin": null,
      "max_height": null,
      "max_width": null,
      "min_height": null,
      "min_width": null,
      "object_fit": null,
      "object_position": null,
      "order": null,
      "overflow": null,
      "overflow_x": null,
      "overflow_y": null,
      "padding": null,
      "right": null,
      "top": null,
      "visibility": null,
      "width": null
     }
    },
    "a2af500222f841cb9bd59ff62b220427": {
     "model_module": "@jupyter-widgets/controls",
     "model_module_version": "1.5.0",
     "model_name": "HTMLModel",
     "state": {
      "_dom_classes": [],
      "_model_module": "@jupyter-widgets/controls",
      "_model_module_version": "1.5.0",
      "_model_name": "HTMLModel",
      "_view_count": null,
      "_view_module": "@jupyter-widgets/controls",
      "_view_module_version": "1.5.0",
      "_view_name": "HTMLView",
      "description": "",
      "description_tooltip": null,
      "layout": "IPY_MODEL_d67d7508fdea472fa95c7f557b2b467b",
      "placeholder": "​",
      "style": "IPY_MODEL_e183d30fc70e49cc8fab688b58df5a51",
      "value": " 422M/422M [00:14&lt;00:00, 31.9MB/s]"
     }
    },
    "a8cc0af7284048548b56503d8f16139a": {
     "model_module": "@jupyter-widgets/controls",
     "model_module_version": "1.5.0",
     "model_name": "HTMLModel",
     "state": {
      "_dom_classes": [],
      "_model_module": "@jupyter-widgets/controls",
      "_model_module_version": "1.5.0",
      "_model_name": "HTMLModel",
      "_view_count": null,
      "_view_module": "@jupyter-widgets/controls",
      "_view_module_version": "1.5.0",
      "_view_name": "HTMLView",
      "description": "",
      "description_tooltip": null,
      "layout": "IPY_MODEL_70cba6820a9e4e22ad87e251f5857801",
      "placeholder": "​",
      "style": "IPY_MODEL_60b38f7133864f049bff92787313367f",
      "value": "Downloading: 100%"
     }
    },
    "ad4280a9f38343a59cb2947155cebca8": {
     "model_module": "@jupyter-widgets/controls",
     "model_module_version": "1.5.0",
     "model_name": "ProgressStyleModel",
     "state": {
      "_model_module": "@jupyter-widgets/controls",
      "_model_module_version": "1.5.0",
      "_model_name": "ProgressStyleModel",
      "_view_count": null,
      "_view_module": "@jupyter-widgets/base",
      "_view_module_version": "1.2.0",
      "_view_name": "StyleView",
      "bar_color": null,
      "description_width": ""
     }
    },
    "b22ab15795ca4d5d9c6abab7bd163cd6": {
     "model_module": "@jupyter-widgets/controls",
     "model_module_version": "1.5.0",
     "model_name": "DescriptionStyleModel",
     "state": {
      "_model_module": "@jupyter-widgets/controls",
      "_model_module_version": "1.5.0",
      "_model_name": "DescriptionStyleModel",
      "_view_count": null,
      "_view_module": "@jupyter-widgets/base",
      "_view_module_version": "1.2.0",
      "_view_name": "StyleView",
      "description_width": ""
     }
    },
    "b8ddfffbeb0747fbac66d26ea7d2f711": {
     "model_module": "@jupyter-widgets/controls",
     "model_module_version": "1.5.0",
     "model_name": "HTMLModel",
     "state": {
      "_dom_classes": [],
      "_model_module": "@jupyter-widgets/controls",
      "_model_module_version": "1.5.0",
      "_model_name": "HTMLModel",
      "_view_count": null,
      "_view_module": "@jupyter-widgets/controls",
      "_view_module_version": "1.5.0",
      "_view_name": "HTMLView",
      "description": "",
      "description_tooltip": null,
      "layout": "IPY_MODEL_e93034f06e2240169162d3aeb08b6a78",
      "placeholder": "​",
      "style": "IPY_MODEL_f7b9b8db78a74a6b9e420c6099330650",
      "value": "Downloading: 100%"
     }
    },
    "bd4178909db141819c80c6ee46ade5a8": {
     "model_module": "@jupyter-widgets/controls",
     "model_module_version": "1.5.0",
     "model_name": "HTMLModel",
     "state": {
      "_dom_classes": [],
      "_model_module": "@jupyter-widgets/controls",
      "_model_module_version": "1.5.0",
      "_model_name": "HTMLModel",
      "_view_count": null,
      "_view_module": "@jupyter-widgets/controls",
      "_view_module_version": "1.5.0",
      "_view_name": "HTMLView",
      "description": "",
      "description_tooltip": null,
      "layout": "IPY_MODEL_4c5dd318ba8e4d5d8ebf2f1bef650efa",
      "placeholder": "​",
      "style": "IPY_MODEL_96f1bc563b044f3b85933aee03d61598",
      "value": " 223k/223k [00:00&lt;00:00, 1.23MB/s]"
     }
    },
    "c300b2baaaba46299461339ac05915e4": {
     "model_module": "@jupyter-widgets/base",
     "model_module_version": "1.2.0",
     "model_name": "LayoutModel",
     "state": {
      "_model_module": "@jupyter-widgets/base",
      "_model_module_version": "1.2.0",
      "_model_name": "LayoutModel",
      "_view_count": null,
      "_view_module": "@jupyter-widgets/base",
      "_view_module_version": "1.2.0",
      "_view_name": "LayoutView",
      "align_content": null,
      "align_items": null,
      "align_self": null,
      "border": null,
      "bottom": null,
      "display": null,
      "flex": null,
      "flex_flow": null,
      "grid_area": null,
      "grid_auto_columns": null,
      "grid_auto_flow": null,
      "grid_auto_rows": null,
      "grid_column": null,
      "grid_gap": null,
      "grid_row": null,
      "grid_template_areas": null,
      "grid_template_columns": null,
      "grid_template_rows": null,
      "height": null,
      "justify_content": null,
      "justify_items": null,
      "left": null,
      "margin": null,
      "max_height": null,
      "max_width": null,
      "min_height": null,
      "min_width": null,
      "object_fit": null,
      "object_position": null,
      "order": null,
      "overflow": null,
      "overflow_x": null,
      "overflow_y": null,
      "padding": null,
      "right": null,
      "top": null,
      "visibility": null,
      "width": null
     }
    },
    "d67d7508fdea472fa95c7f557b2b467b": {
     "model_module": "@jupyter-widgets/base",
     "model_module_version": "1.2.0",
     "model_name": "LayoutModel",
     "state": {
      "_model_module": "@jupyter-widgets/base",
      "_model_module_version": "1.2.0",
      "_model_name": "LayoutModel",
      "_view_count": null,
      "_view_module": "@jupyter-widgets/base",
      "_view_module_version": "1.2.0",
      "_view_name": "LayoutView",
      "align_content": null,
      "align_items": null,
      "align_self": null,
      "border": null,
      "bottom": null,
      "display": null,
      "flex": null,
      "flex_flow": null,
      "grid_area": null,
      "grid_auto_columns": null,
      "grid_auto_flow": null,
      "grid_auto_rows": null,
      "grid_column": null,
      "grid_gap": null,
      "grid_row": null,
      "grid_template_areas": null,
      "grid_template_columns": null,
      "grid_template_rows": null,
      "height": null,
      "justify_content": null,
      "justify_items": null,
      "left": null,
      "margin": null,
      "max_height": null,
      "max_width": null,
      "min_height": null,
      "min_width": null,
      "object_fit": null,
      "object_position": null,
      "order": null,
      "overflow": null,
      "overflow_x": null,
      "overflow_y": null,
      "padding": null,
      "right": null,
      "top": null,
      "visibility": null,
      "width": null
     }
    },
    "d966efc185484fff80234a605bd86518": {
     "model_module": "@jupyter-widgets/base",
     "model_module_version": "1.2.0",
     "model_name": "LayoutModel",
     "state": {
      "_model_module": "@jupyter-widgets/base",
      "_model_module_version": "1.2.0",
      "_model_name": "LayoutModel",
      "_view_count": null,
      "_view_module": "@jupyter-widgets/base",
      "_view_module_version": "1.2.0",
      "_view_name": "LayoutView",
      "align_content": null,
      "align_items": null,
      "align_self": null,
      "border": null,
      "bottom": null,
      "display": null,
      "flex": null,
      "flex_flow": null,
      "grid_area": null,
      "grid_auto_columns": null,
      "grid_auto_flow": null,
      "grid_auto_rows": null,
      "grid_column": null,
      "grid_gap": null,
      "grid_row": null,
      "grid_template_areas": null,
      "grid_template_columns": null,
      "grid_template_rows": null,
      "height": null,
      "justify_content": null,
      "justify_items": null,
      "left": null,
      "margin": null,
      "max_height": null,
      "max_width": null,
      "min_height": null,
      "min_width": null,
      "object_fit": null,
      "object_position": null,
      "order": null,
      "overflow": null,
      "overflow_x": null,
      "overflow_y": null,
      "padding": null,
      "right": null,
      "top": null,
      "visibility": null,
      "width": null
     }
    },
    "dc23c978b66b4c8dbf49451a279b0d33": {
     "model_module": "@jupyter-widgets/controls",
     "model_module_version": "1.5.0",
     "model_name": "DescriptionStyleModel",
     "state": {
      "_model_module": "@jupyter-widgets/controls",
      "_model_module_version": "1.5.0",
      "_model_name": "DescriptionStyleModel",
      "_view_count": null,
      "_view_module": "@jupyter-widgets/base",
      "_view_module_version": "1.2.0",
      "_view_name": "StyleView",
      "description_width": ""
     }
    },
    "e183d30fc70e49cc8fab688b58df5a51": {
     "model_module": "@jupyter-widgets/controls",
     "model_module_version": "1.5.0",
     "model_name": "DescriptionStyleModel",
     "state": {
      "_model_module": "@jupyter-widgets/controls",
      "_model_module_version": "1.5.0",
      "_model_name": "DescriptionStyleModel",
      "_view_count": null,
      "_view_module": "@jupyter-widgets/base",
      "_view_module_version": "1.2.0",
      "_view_name": "StyleView",
      "description_width": ""
     }
    },
    "e93034f06e2240169162d3aeb08b6a78": {
     "model_module": "@jupyter-widgets/base",
     "model_module_version": "1.2.0",
     "model_name": "LayoutModel",
     "state": {
      "_model_module": "@jupyter-widgets/base",
      "_model_module_version": "1.2.0",
      "_model_name": "LayoutModel",
      "_view_count": null,
      "_view_module": "@jupyter-widgets/base",
      "_view_module_version": "1.2.0",
      "_view_name": "LayoutView",
      "align_content": null,
      "align_items": null,
      "align_self": null,
      "border": null,
      "bottom": null,
      "display": null,
      "flex": null,
      "flex_flow": null,
      "grid_area": null,
      "grid_auto_columns": null,
      "grid_auto_flow": null,
      "grid_auto_rows": null,
      "grid_column": null,
      "grid_gap": null,
      "grid_row": null,
      "grid_template_areas": null,
      "grid_template_columns": null,
      "grid_template_rows": null,
      "height": null,
      "justify_content": null,
      "justify_items": null,
      "left": null,
      "margin": null,
      "max_height": null,
      "max_width": null,
      "min_height": null,
      "min_width": null,
      "object_fit": null,
      "object_position": null,
      "order": null,
      "overflow": null,
      "overflow_x": null,
      "overflow_y": null,
      "padding": null,
      "right": null,
      "top": null,
      "visibility": null,
      "width": null
     }
    },
    "eb6b8611e956446391b278e4cacb22f8": {
     "model_module": "@jupyter-widgets/controls",
     "model_module_version": "1.5.0",
     "model_name": "HBoxModel",
     "state": {
      "_dom_classes": [],
      "_model_module": "@jupyter-widgets/controls",
      "_model_module_version": "1.5.0",
      "_model_name": "HBoxModel",
      "_view_count": null,
      "_view_module": "@jupyter-widgets/controls",
      "_view_module_version": "1.5.0",
      "_view_name": "HBoxView",
      "box_style": "",
      "children": [
       "IPY_MODEL_4a704fde880e4e119dd60c8f7c13b737",
       "IPY_MODEL_633006ea85464d818db0614bdf863dcd",
       "IPY_MODEL_f8940321d3d740b6a74a3c7e1ce2a55b"
      ],
      "layout": "IPY_MODEL_59856599c9b64d6293963962306c48bb"
     }
    },
    "f46c913c776841a8a3be19681986ce1a": {
     "model_module": "@jupyter-widgets/controls",
     "model_module_version": "1.5.0",
     "model_name": "FloatProgressModel",
     "state": {
      "_dom_classes": [],
      "_model_module": "@jupyter-widgets/controls",
      "_model_module_version": "1.5.0",
      "_model_name": "FloatProgressModel",
      "_view_count": null,
      "_view_module": "@jupyter-widgets/controls",
      "_view_module_version": "1.5.0",
      "_view_name": "ProgressView",
      "bar_style": "success",
      "description": "",
      "description_tooltip": null,
      "layout": "IPY_MODEL_471aaa34c8b341189bbc206315edefbe",
      "max": 227845,
      "min": 0,
      "orientation": "horizontal",
      "style": "IPY_MODEL_1c61ec5d5a7b4259b450dfec9cb5a3ff",
      "value": 227845
     }
    },
    "f7b9b8db78a74a6b9e420c6099330650": {
     "model_module": "@jupyter-widgets/controls",
     "model_module_version": "1.5.0",
     "model_name": "DescriptionStyleModel",
     "state": {
      "_model_module": "@jupyter-widgets/controls",
      "_model_module_version": "1.5.0",
      "_model_name": "DescriptionStyleModel",
      "_view_count": null,
      "_view_module": "@jupyter-widgets/base",
      "_view_module_version": "1.2.0",
      "_view_name": "StyleView",
      "description_width": ""
     }
    },
    "f8940321d3d740b6a74a3c7e1ce2a55b": {
     "model_module": "@jupyter-widgets/controls",
     "model_module_version": "1.5.0",
     "model_name": "HTMLModel",
     "state": {
      "_dom_classes": [],
      "_model_module": "@jupyter-widgets/controls",
      "_model_module_version": "1.5.0",
      "_model_name": "HTMLModel",
      "_view_count": null,
      "_view_module": "@jupyter-widgets/controls",
      "_view_module_version": "1.5.0",
      "_view_name": "HTMLView",
      "description": "",
      "description_tooltip": null,
      "layout": "IPY_MODEL_d966efc185484fff80234a605bd86518",
      "placeholder": "​",
      "style": "IPY_MODEL_dc23c978b66b4c8dbf49451a279b0d33",
      "value": " 385/385 [00:00&lt;00:00, 9.36kB/s]"
     }
    },
    "fc82743aef59456bac1d910c8253ce18": {
     "model_module": "@jupyter-widgets/base",
     "model_module_version": "1.2.0",
     "model_name": "LayoutModel",
     "state": {
      "_model_module": "@jupyter-widgets/base",
      "_model_module_version": "1.2.0",
      "_model_name": "LayoutModel",
      "_view_count": null,
      "_view_module": "@jupyter-widgets/base",
      "_view_module_version": "1.2.0",
      "_view_name": "LayoutView",
      "align_content": null,
      "align_items": null,
      "align_self": null,
      "border": null,
      "bottom": null,
      "display": null,
      "flex": null,
      "flex_flow": null,
      "grid_area": null,
      "grid_auto_columns": null,
      "grid_auto_flow": null,
      "grid_auto_rows": null,
      "grid_column": null,
      "grid_gap": null,
      "grid_row": null,
      "grid_template_areas": null,
      "grid_template_columns": null,
      "grid_template_rows": null,
      "height": null,
      "justify_content": null,
      "justify_items": null,
      "left": null,
      "margin": null,
      "max_height": null,
      "max_width": null,
      "min_height": null,
      "min_width": null,
      "object_fit": null,
      "object_position": null,
      "order": null,
      "overflow": null,
      "overflow_x": null,
      "overflow_y": null,
      "padding": null,
      "right": null,
      "top": null,
      "visibility": null,
      "width": null
     }
    }
   }
  }
 },
 "nbformat": 4,
 "nbformat_minor": 1
}
